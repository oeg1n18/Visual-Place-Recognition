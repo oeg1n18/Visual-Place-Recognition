{
 "cells": [
  {
   "cell_type": "code",
   "execution_count": 241,
   "id": "cd313e3f-581b-4bff-8cea-28036421c8e0",
   "metadata": {},
   "outputs": [],
   "source": [
    "import torch\n",
    "import numpy as np\n",
    "import glob\n",
    "import os\n",
    "from torch_snippets import *\n",
    "import glob\n",
    "from IPython.display import clear_output\n",
    "import pandas as pd\n",
    "from PIL import Image\n",
    "import cv2 as cv"
   ]
  },
  {
   "cell_type": "code",
   "execution_count": 191,
   "id": "70f0f659-2b6d-4807-ba0d-8d99e8157385",
   "metadata": {},
   "outputs": [],
   "source": [
    "images = glob.glob(os.getcwd() + '/data/oxford_buildings/oxbuild_images/*.jpg')\n",
    "ground_truths = glob.glob(os.getcwd() + '/data/oxford_buildings/gt_files/*.txt')\n"
   ]
  },
  {
   "cell_type": "code",
   "execution_count": 192,
   "id": "de595faf-51f2-48e9-8e8c-25fc53aabb78",
   "metadata": {},
   "outputs": [],
   "source": [
    "label_types = ['_good.txt', '_junk.txt', '_ok.txt', '_query.txt']\n",
    "\n",
    "def get_places_queries(gt_labels):\n",
    "    places = []\n",
    "    for gt_label in gt_labels:\n",
    "        for label in label_types:\n",
    "            if gt_label.endswith(label):\n",
    "                x = gt_label.replace(label, \" \")\n",
    "                x = x.replace('C:\\\\Users\\\\olive\\\\OneDrive - University of Southampton\\\\Documents\\\\GitHub\\\\Visual-Place-Recognition/data/oxford_buildings/gt_files\\\\', ' ')\n",
    "                places.append(x.strip())\n",
    "                break\n",
    "    return places\n",
    "\n",
    "def get_place_query_results(places):\n",
    "    all_places = {}\n",
    "    for place in places:\n",
    "        place_dict = {}\n",
    "        fpath = 'C:\\\\Users\\\\olive\\\\OneDrive - University of Southampton\\\\Documents\\\\GitHub\\\\Visual-Place-Recognition/data/oxford_buildings/gt_files\\\\' +  place \n",
    "        for label_type in label_types:\n",
    "            query_path = fpath + label_type\n",
    "            query_images = pd.read_csv(query_path).to_numpy().squeeze()\n",
    "            x = label_type.replace('_', ' ').replace('.txt', ' ').strip()\n",
    "            place_dict[x] = query_images\n",
    "        all_places[place] = place_dict\n",
    "    return all_places\n",
    "        \n",
    "                \n",
    "places = get_places(ground_truths)\n",
    "places_dict = get_place_query_results(places)"
   ]
  },
  {
   "cell_type": "code",
   "execution_count": 242,
   "id": "3c8c0fc9-ba81-4be8-8887-681c16c41f13",
   "metadata": {},
   "outputs": [],
   "source": [
    "from tqdm import tqdm\n",
    "from sklearn.cluster import MiniBatchKMeans\n",
    "\n",
    "class generate_representations:\n",
    "    def __init__(self, img_paths, n_visual_words=1000):\n",
    "        self.img_paths = img_paths\n",
    "        self.sift_detector = cv.SIFT_create()\n",
    "        self.cluster = MiniBatchKMeans(n_clusters=n_visual_words)\n",
    "        self.ds = False\n",
    "    \n",
    "    def compute_descriptors(self):\n",
    "        for img_path in tqdm(self.img_paths):\n",
    "            des = self.compute_features(img_path)\n",
    "            try:\n",
    "                self.ds = np.concatenate((self.ds, des))\n",
    "            except: \n",
    "                self.ds = des\n",
    "                \n",
    "    \n",
    "    def compute_bag_of_visual_words(self):\n",
    "        diff = 1001\n",
    "        i = 0\n",
    "        n_batches = int(np.ceil(self.ds.shape[0]/diff))\n",
    "        batch_n = 0\n",
    "        while(i < self.ds.shape[0]):\n",
    "            clear_output(wait=True)\n",
    "            print((batch_n/n_batches)*100, \"% done\")\n",
    "            batch = self.ds[i:i + diff]\n",
    "            i = i+diff\n",
    "            self.cluster.partial_fit(batch)\n",
    "            batch_n += 1\n",
    "            \n",
    "        self.visual_words = self.cluster.cluster_centers_\n",
    "        \n",
    "    def infer(img): \n",
    "            \n",
    "    def compute_features(self, img_path):\n",
    "        img = cv.imread(img_path)\n",
    "        gray = cv.cvtColor(img, cv.COLOR_BGR2GRAY)\n",
    "        _, des = self.sift_detector.detectAndCompute(gray, None)\n",
    "        return des\n",
    "        \n",
    "        \n",
    "    #def compute_ranked_list(self, place)\n",
    "        \n",
    "        \n",
    "    "
   ]
  },
  {
   "cell_type": "code",
   "execution_count": 243,
   "id": "3c8d5930-a325-4cf4-a030-ff43cccd82ad",
   "metadata": {},
   "outputs": [
    {
     "name": "stderr",
     "output_type": "stream",
     "text": [
      "100%|██████████████████████████████████████████████████████████████████████████████████| 50/50 [00:05<00:00,  8.83it/s]\n"
     ]
    }
   ],
   "source": [
    "vpr = generate_representations(images[:50])\n",
    "dataset = vpr.compute_descriptors()"
   ]
  },
  {
   "cell_type": "code",
   "execution_count": 244,
   "id": "8b30eaa0-3962-4364-b5c5-4a0e766841ed",
   "metadata": {},
   "outputs": [
    {
     "data": {
      "text/html": [
       "<pre style=\"white-space:pre;overflow-x:auto;line-height:normal;font-family:Menlo,'DejaVu Sans Mono',consolas,'Courier New',monospace\"><span style=\"color: #008080; text-decoration-color: #008080; font-weight: bold\">99.42528735632183</span> % done\n",
       "</pre>\n"
      ],
      "text/plain": [
       "\u001b[1;36m99.42528735632183\u001b[0m % done\n"
      ]
     },
     "metadata": {},
     "output_type": "display_data"
    }
   ],
   "source": [
    "vpr.compute_bag_of_visual_words()"
   ]
  },
  {
   "cell_type": "code",
   "execution_count": 178,
   "id": "e25207f1-81ee-4bd3-b548-3873d5c3746e",
   "metadata": {},
   "outputs": [],
   "source": []
  },
  {
   "cell_type": "code",
   "execution_count": 186,
   "id": "e9d3a598-85f7-4f09-bb85-9494dc05a2d0",
   "metadata": {},
   "outputs": [],
   "source": [
    "arr3 = np.concatenate((arr1, arr2))"
   ]
  },
  {
   "cell_type": "code",
   "execution_count": 187,
   "id": "bdbb2d57-40f0-466d-bc85-e65e4b47ea58",
   "metadata": {},
   "outputs": [
    {
     "data": {
      "text/plain": [
       "(20, 5)"
      ]
     },
     "execution_count": 187,
     "metadata": {},
     "output_type": "execute_result"
    }
   ],
   "source": [
    "arr3.shape"
   ]
  },
  {
   "cell_type": "code",
   "execution_count": 226,
   "id": "105cce91-031b-41f3-a3a7-aaf3a071f7da",
   "metadata": {},
   "outputs": [],
   "source": [
    "arr = np.random.rand(1000, 124)"
   ]
  },
  {
   "cell_type": "code",
   "execution_count": 227,
   "id": "d420620e-fd76-4e13-a828-2d8f68da8b23",
   "metadata": {},
   "outputs": [],
   "source": [
    "for batch in np.vsplit(arr, 100):\n",
    "    break"
   ]
  },
  {
   "cell_type": "code",
   "execution_count": 228,
   "id": "a0ad60bb-29e0-4623-aff8-d53bb7183d14",
   "metadata": {},
   "outputs": [
    {
     "data": {
      "text/plain": [
       "array([[0.81427912, 0.0165941 , 0.58239671, ..., 0.50143226, 0.90783003,\n",
       "        0.10045649],\n",
       "       [0.25594509, 0.39802638, 0.46558366, ..., 0.18535778, 0.98020102,\n",
       "        0.27590337],\n",
       "       [0.74154315, 0.59724706, 0.74648424, ..., 0.88249786, 0.85912598,\n",
       "        0.68066797],\n",
       "       ...,\n",
       "       [0.15859872, 0.57084591, 0.79527076, ..., 0.3599217 , 0.18326   ,\n",
       "        0.65078381],\n",
       "       [0.50267094, 0.99496028, 0.47162569, ..., 0.26328462, 0.74397769,\n",
       "        0.72279385],\n",
       "       [0.29632362, 0.10275503, 0.03577007, ..., 0.88204548, 0.76139824,\n",
       "        0.47899449]])"
      ]
     },
     "execution_count": 228,
     "metadata": {},
     "output_type": "execute_result"
    }
   ],
   "source": [
    "batch"
   ]
  },
  {
   "cell_type": "code",
   "execution_count": null,
   "id": "9ac7fc53-9a2c-44bc-8cb1-cc0e450b7998",
   "metadata": {},
   "outputs": [],
   "source": []
  }
 ],
 "metadata": {
  "kernelspec": {
   "display_name": "Python 3 (ipykernel)",
   "language": "python",
   "name": "python3"
  },
  "language_info": {
   "codemirror_mode": {
    "name": "ipython",
    "version": 3
   },
   "file_extension": ".py",
   "mimetype": "text/x-python",
   "name": "python",
   "nbconvert_exporter": "python",
   "pygments_lexer": "ipython3",
   "version": "3.8.13"
  }
 },
 "nbformat": 4,
 "nbformat_minor": 5
}
