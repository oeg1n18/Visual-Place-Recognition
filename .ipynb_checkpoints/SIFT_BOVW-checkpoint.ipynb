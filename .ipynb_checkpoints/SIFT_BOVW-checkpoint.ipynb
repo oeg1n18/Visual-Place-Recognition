{
 "cells": [
  {
   "cell_type": "code",
   "execution_count": 4,
   "id": "cd313e3f-581b-4bff-8cea-28036421c8e0",
   "metadata": {},
   "outputs": [],
   "source": [
    "import torch\n",
    "import numpy as np\n",
    "import glob\n",
    "import os\n",
    "from torch_snippets import *\n",
    "import glob\n",
    "from IPython.display import clear_output\n",
    "import pandas as pd\n",
    "from sklearn.cluster import MiniBatchKMeans\n",
    "from PIL import Image\n",
    "from sklearn.neighbors import NearestNeighbors\n",
    "import matplotlib.pyplot as plt\n",
    "import cv2 as cv\n",
    "import tqdm\n",
    "from tqdm import tqdm\n",
    "import time\n",
    "import scipy\n",
    "import timeit\n",
    "\n",
    "N = 20"
   ]
  },
  {
   "cell_type": "code",
   "execution_count": 5,
   "id": "70f0f659-2b6d-4807-ba0d-8d99e8157385",
   "metadata": {},
   "outputs": [],
   "source": [
    "class DataLoader:\n",
    "    def __init__(self, image_dir=\"\\\\data\\\\oxford_buildings\\\\oxbuild_images\", gt_dir=\"\\\\data\\\\oxford_buildings\\\\gt_files\"):\n",
    "        self.root = os.getcwd()\n",
    "        self.image_dir = image_dir\n",
    "        self.gt_dir = gt_dir\n",
    "        self.images = glob.glob(self.root + image_dir + \"\\\\*.jpg\")\n",
    "        self.ground_truths = glob.glob(self.root + gt_dir + '\\\\*.txt')\n",
    "        self.label_types =['_good.txt', '_junk.txt', '_ok.txt', '_query.txt']\n",
    "        self.places = self.get_place_queries(self.ground_truths)\n",
    "        self.places_dict = self.get_place_query_results(self.places)\n",
    "        self.query_images = self.get_query_images()\n",
    "        \n",
    "    \n",
    "\n",
    "    def get_place_queries(self, gt_labels):\n",
    "        places = []\n",
    "        for gt_label in gt_labels:\n",
    "            for label in self.label_types:\n",
    "                if gt_label.endswith(label):\n",
    "                    x = gt_label.replace(label, \" \")\n",
    "                    x = x.replace(self.root + self.gt_dir, ' ').replace('\\\\', ' ')\n",
    "                    places.append(x.strip())\n",
    "                    break\n",
    "        return places\n",
    "    \n",
    "    \n",
    "\n",
    "    def get_place_query_results(self, places):\n",
    "        all_places = {}\n",
    "        for place in places:\n",
    "            place_dict = {}\n",
    "            fpath = self.root + '/data/oxford_buildings/gt_files\\\\' +  place \n",
    "            for label_type in self.label_types:\n",
    "                query_path = fpath + label_type\n",
    "                query_images =pd.read_csv(query_path, header=None, delimiter=' ').to_numpy().squeeze()\n",
    "                x = label_type.replace('_', ' ').replace('.txt', ' ').strip()\n",
    "                place_dict[x] = query_images\n",
    "            all_places[place] = place_dict\n",
    "        return all_places\n",
    "    \n",
    "    def get_query_images(self):\n",
    "        query_images = []\n",
    "        for k, v in self.places_dict.items():\n",
    "            query_im = v[\"query\"][0].replace('oxc1_', '')\n",
    "            for img in self.images:\n",
    "                if query_im in img:\n",
    "                    query_images.append(img)\n",
    "        return query_images\n",
    "        \n",
    "        \n",
    "\n",
    "\n",
    "    "
   ]
  },
  {
   "cell_type": "code",
   "execution_count": 6,
   "id": "de595faf-51f2-48e9-8e8c-25fc53aabb78",
   "metadata": {},
   "outputs": [],
   "source": [
    "dataset = DataLoader()"
   ]
  },
  {
   "cell_type": "code",
   "execution_count": 7,
   "id": "fbfd3c7b-adf3-4ebd-9920-db707892d548",
   "metadata": {},
   "outputs": [],
   "source": [
    "class SIFT_VPR:\n",
    "    def __init__(self, dataset, max_features_per_image=1000, n_visual_words=1000):\n",
    "        \n",
    "        self.ds = dataset\n",
    "        self.sift_detector = cv.SIFT_create(nfeatures=max_features_per_image)\n",
    "        self.neighbors = NearestNeighbors(n_neighbors=10)\n",
    "        self.cluster = MiniBatchKMeans(n_clusters=n_visual_words)\n",
    "        self.n_visual_words = n_visual_words\n",
    "        \n",
    "    def compute_query_desc(self, img_path):\n",
    "        img = cv.imread(img_path)\n",
    "        gray = cv.cvtColor(img, cv.COLOR_BGR2GRAY)\n",
    "        _, desc = self.sift_detector.detectAndCompute(gray, None)\n",
    "        words = self.cluster.predict(desc)\n",
    "        Fq = np.bincount(words, minlength=self.n_visual_words)\n",
    "        return Fq\n",
    "    \n",
    "    def compute_map_features(self):\n",
    "        print(\" ============= Computing Local Descriptors ================ \")\n",
    "        for img_path in tqdm(self.ds.images[:N]):\n",
    "            if img_path in self.ds.query_images:\n",
    "                continue\n",
    "            img = cv.imread(img_path)\n",
    "            gray = cv.cvtColor(img, cv.COLOR_BGR2GRAY)\n",
    "            _, desc = self.sift_detector.detectAndCompute(gray, None)\n",
    "            try:\n",
    "                all_desc = np.concatenate((all_desc, desc))\n",
    "            except: \n",
    "                all_desc = desc\n",
    "        \n",
    "        print(\" ============= Computing Visual Words ===================== \")\n",
    "        delta = self.n_visual_words * 2\n",
    "        i = 0\n",
    "        n_batches = int(all_desc.shape[0]/delta)\n",
    "        batch_n = 0\n",
    "        pbar = tqdm(total=n_batches)\n",
    "        while(i < all_desc.shape[0]):\n",
    "            clear_output(wait=True)\n",
    "            batch = all_desc[i:i + delta, :]\n",
    "            self.cluster.partial_fit(batch)\n",
    "            i = i+delta\n",
    "            batch_n += 1\n",
    "            pbar.update(1)\n",
    "        pbar.close()\n",
    "        self.visual_words = self.cluster.cluster_centers_\n",
    "    \n",
    "        print(\" ============= Computing Visual Word Representations ================ \")\n",
    "        for img_path in tqdm(self.ds.images[:N]):\n",
    "            img = cv.imread(img_path)\n",
    "            gray = cv.cvtColor(img, cv.COLOR_BGR2GRAY)\n",
    "            _, desc = self.sift_detector.detectAndCompute(gray, None)\n",
    "            try:\n",
    "                nearest_words = self.cluster.predict(desc)\n",
    "            except:\n",
    "                continue\n",
    "                \n",
    "            F = np.bincount(nearest_words, minlength=self.n_visual_words)\n",
    "            F = np.concatenate((np.array([img_path]), np.array(F)))\n",
    "            try:\n",
    "                Fm = np.vstack((Fm, F))\n",
    "            except:\n",
    "                Fm = F\n",
    "        self.Fm = Fm\n",
    "        return Fm\n",
    "                \n",
    "        \n",
    "    def perform_VPR(self, imQ_path, Fm, top_n=None):\n",
    "        Fq = self.compute_query_desc(imQ_path)\n",
    "        reps = Fm[:, 1:]\n",
    "        paths = Fm[:, 0]\n",
    "        try:\n",
    "            norms = np.array([np.linalg.norm(Fq.astype(int) - word.astype(int)) for word in reps])\n",
    "        except:\n",
    "            print(\"you are testing an image already in the dataset\")\n",
    "        \n",
    "        sort_args = np.argsort(-norms)\n",
    "        scores = (np.exp(norms)/np.exp(norms).sum())\n",
    "        paths = paths[sort_args]\n",
    "        scores = scores[sort_args]\n",
    "        if top_n:\n",
    "            if top_n > 0:\n",
    "                P = paths[:top_n]\n",
    "                S = scores\n",
    "                return P, S\n",
    "            else:\n",
    "                P = paths\n",
    "                S = scores\n",
    "                return P, S\n",
    "        P = paths[0]\n",
    "        S = scores[0] \n",
    "        return P, S"
   ]
  },
  {
   "cell_type": "code",
   "execution_count": null,
   "id": "3c8c0fc9-ba81-4be8-8887-681c16c41f13",
   "metadata": {},
   "outputs": [],
   "source": []
  },
  {
   "cell_type": "code",
   "execution_count": 8,
   "id": "3c8d5930-a325-4cf4-a030-ff43cccd82ad",
   "metadata": {},
   "outputs": [],
   "source": [
    "vpr = SIFT_VPR(dataset)"
   ]
  },
  {
   "cell_type": "code",
   "execution_count": 9,
   "id": "8b30eaa0-3962-4364-b5c5-4a0e766841ed",
   "metadata": {},
   "outputs": [
    {
     "name": "stderr",
     "output_type": "stream",
     "text": [
      "10it [00:00, 10.42it/s]                                                                                                \n"
     ]
    },
    {
     "data": {
      "text/html": [
       "<pre style=\"white-space:pre;overflow-x:auto;line-height:normal;font-family:Menlo,'DejaVu Sans Mono',consolas,'Courier New',monospace\"> ============= Computing Visual Word Representations ================ \n",
       "</pre>\n"
      ],
      "text/plain": [
       " ============= Computing Visual Word Representations ================ \n"
      ]
     },
     "metadata": {},
     "output_type": "display_data"
    },
    {
     "name": "stderr",
     "output_type": "stream",
     "text": [
      "100%|██████████████████████████████████████████████████████████████████████████████████| 20/20 [00:02<00:00,  9.56it/s]\n"
     ]
    }
   ],
   "source": [
    "Fm = vpr.compute_map_features()"
   ]
  },
  {
   "cell_type": "code",
   "execution_count": 10,
   "id": "e25207f1-81ee-4bd3-b548-3873d5c3746e",
   "metadata": {},
   "outputs": [
    {
     "data": {
      "text/plain": [
       "'C:\\\\Users\\\\olive\\\\OneDrive - University of Southampton\\\\Documents\\\\GitHub\\\\Visual-Place-Recognition\\\\data\\\\oxford_buildings\\\\oxbuild_images\\\\all_souls_000026.jpg'"
      ]
     },
     "execution_count": 10,
     "metadata": {},
     "output_type": "execute_result"
    }
   ],
   "source": [
    "query_im = dataset.query_images[1]\n",
    "query_im"
   ]
  },
  {
   "cell_type": "code",
   "execution_count": 11,
   "id": "e9d3a598-85f7-4f09-bb85-9494dc05a2d0",
   "metadata": {},
   "outputs": [],
   "source": [
    "hr = vpr.compute_query_desc(query_im)"
   ]
  },
  {
   "cell_type": "code",
   "execution_count": 12,
   "id": "bdbb2d57-40f0-466d-bc85-e65e4b47ea58",
   "metadata": {},
   "outputs": [],
   "source": [
    "P, S = vpr.perform_VPR(query_im, Fm, top_n=-1)\n"
   ]
  },
  {
   "cell_type": "code",
   "execution_count": null,
   "id": "4db948b1-e9df-4b97-a827-056c78e62ada",
   "metadata": {},
   "outputs": [],
   "source": []
  },
  {
   "cell_type": "code",
   "execution_count": null,
   "id": "dcc9fe9d-2643-46dd-832a-cf016872f321",
   "metadata": {},
   "outputs": [],
   "source": []
  },
  {
   "cell_type": "code",
   "execution_count": null,
   "id": "1ac53c00-5611-4b52-89b8-f132cf1825cb",
   "metadata": {},
   "outputs": [],
   "source": []
  },
  {
   "cell_type": "code",
   "execution_count": null,
   "id": "f65ea110-66b4-4d37-8297-c47feb303a6d",
   "metadata": {},
   "outputs": [],
   "source": []
  },
  {
   "cell_type": "code",
   "execution_count": 19,
   "id": "105cce91-031b-41f3-a3a7-aaf3a071f7da",
   "metadata": {},
   "outputs": [],
   "source": [
    "class Evaluate:\n",
    "    def __init__(self, dataset, vpr_module):\n",
    "        self.ds = dataset\n",
    "        self.vpr = vpr\n",
    "        try:\n",
    "            self.Fm = self.vpr.Fm\n",
    "        except: \n",
    "            self.Fm = self.vpr.compute_map_features()\n",
    "            \n",
    "        \n",
    "        self.place_matches = {}\n",
    "        for k, v in self.ds.places_dict.items():\n",
    "                self.place_matches[k] = v[\"good\"]\n",
    "    \n",
    "    def precision(self, threshold=0.8):\n",
    "        Tp = 0\n",
    "        Fp = 0\n",
    "        for place, matches in tqdm(self.place_matches.items()):\n",
    "            place = self.ds.places_dict[place][\"query\"][0]\n",
    "            place = place.replace('oxc1_', ' ').strip()\n",
    "            place = self.ds.root + self.ds.image_dir + \"\\\\\" + place + \".jpg\"\n",
    "            P, S = self.vpr.perform_VPR(place, self.Fm, top_n=-1)\n",
    "            preds = [self.prediction(prob, threshold) for prob in S]\n",
    "            for i, pred in enumerate(preds):\n",
    "                if pred:\n",
    "                    match_flag = False\n",
    "                    for match in matches:\n",
    "                        if str(match) in str(P[i]):\n",
    "                            match_flag = True\n",
    "                            break\n",
    "                    if match_flag == True:\n",
    "                        Tp += 1\n",
    "                    else: \n",
    "                        Fp += 1 \n",
    "        print(\"Tp; \", Tp, \" Fp; \", Fp)\n",
    "        return (Tp/(Tp + Fp))\n",
    "        \n",
    "    def recall(self, threshold=0.8):\n",
    "        Tp = 0\n",
    "        Fn = 0\n",
    "        for place, matches in tqdm(self.place_matches.items()):\n",
    "            place = self.ds.places_dict[place][\"query\"][0]\n",
    "            place = place.replace('oxc1_', ' ').strip()\n",
    "            place = self.ds.root + self.ds.image_dir + \"\\\\\" + place + \".jpg\"\n",
    "            P, S = self.vpr.perform_VPR(place, self.Fm, top_n=-1)\n",
    "            preds = [self.prediction(prob, threshold) for prob in S]\n",
    "            for i, pred in enumerate(preds):\n",
    "                if pred:\n",
    "                    for match in matches:\n",
    "                        if str(match) in str(P[i]):\n",
    "                            Tp += 1\n",
    "                            break\n",
    "                else:\n",
    "                    for match in matches:\n",
    "                        if str(match) in str(P[i]):\n",
    "                            Fn += 1\n",
    "                            break \n",
    "        return (Tp/(Tp + Fn))\n",
    "        \n",
    "\n",
    "    def recall_N(self):\n",
    "        return 0\n",
    "        \n",
    "    def precision_recall(self, delta=0.1):\n",
    "        precisions = []\n",
    "        recalls = []\n",
    "        for threshold in np.arange(0, 1, delta):\n",
    "            precisions.append(self.precision(threshold=threshold))\n",
    "            recalls.append(self.recall(threshold=threshold))\n",
    "        return precisions, recalls\n",
    "        \n",
    "    def auc_precision_recall(self, delta=0.1):\n",
    "        area = 0\n",
    "        precision, recall = self.precision_recall(delta=delta)\n",
    "        for i in range(len(precision)):\n",
    "            if i == 0:\n",
    "                area += precision[i] * recall[i]\n",
    "            else: \n",
    "                area += precision[i] * abs(recall[i-1] - recall[i])\n",
    "        return area\n",
    "        \n",
    "    def ImageRetrievalTime(self):\n",
    "        times = []\n",
    "        for im in self.ds.query_images:\n",
    "            start = time.time()\n",
    "            P, S = self.vpr.perform_VPR(im, self.Fm)\n",
    "            end = time.time()\n",
    "            times.append(end - start)\n",
    "        return np.array(times).mean(), np.array(times).var()\n",
    "    \n",
    "    def prediction(self, prob, threshold):\n",
    "        if prob > threshold:\n",
    "            return True\n",
    "        else: \n",
    "            return False\n",
    "                               "
   ]
  },
  {
   "cell_type": "code",
   "execution_count": 20,
   "id": "d420620e-fd76-4e13-a828-2d8f68da8b23",
   "metadata": {},
   "outputs": [],
   "source": [
    "evaluate = Evaluate(dataset, vpr)"
   ]
  },
  {
   "cell_type": "code",
   "execution_count": null,
   "id": "a0ad60bb-29e0-4623-aff8-d53bb7183d14",
   "metadata": {},
   "outputs": [
    {
     "name": "stderr",
     "output_type": "stream",
     "text": [
      "  0%|                                                                                           | 0/55 [00:00<?, ?it/s]"
     ]
    },
    {
     "data": {
      "text/html": [
       "<pre style=\"white-space:pre;overflow-x:auto;line-height:normal;font-family:Menlo,'DejaVu Sans Mono',consolas,'Courier New',monospace\">Tp;  <span style=\"color: #008080; text-decoration-color: #008080; font-weight: bold\">0</span>  Fp;  <span style=\"color: #008080; text-decoration-color: #008080; font-weight: bold\">1</span>\n",
       "</pre>\n"
      ],
      "text/plain": [
       "Tp;  \u001b[1;36m0\u001b[0m  Fp;  \u001b[1;36m1\u001b[0m\n"
      ]
     },
     "metadata": {},
     "output_type": "display_data"
    },
    {
     "name": "stderr",
     "output_type": "stream",
     "text": [
      "  2%|█▌                                                                                 | 1/55 [00:00<00:05,  9.67it/s]"
     ]
    },
    {
     "data": {
      "text/html": [
       "<pre style=\"white-space:pre;overflow-x:auto;line-height:normal;font-family:Menlo,'DejaVu Sans Mono',consolas,'Courier New',monospace\">Tp;  <span style=\"color: #008080; text-decoration-color: #008080; font-weight: bold\">0</span>  Fp;  <span style=\"color: #008080; text-decoration-color: #008080; font-weight: bold\">2</span>\n",
       "</pre>\n"
      ],
      "text/plain": [
       "Tp;  \u001b[1;36m0\u001b[0m  Fp;  \u001b[1;36m2\u001b[0m\n"
      ]
     },
     "metadata": {},
     "output_type": "display_data"
    },
    {
     "name": "stderr",
     "output_type": "stream",
     "text": [
      "  4%|███                                                                                | 2/55 [00:00<00:06,  8.83it/s]"
     ]
    },
    {
     "data": {
      "text/html": [
       "<pre style=\"white-space:pre;overflow-x:auto;line-height:normal;font-family:Menlo,'DejaVu Sans Mono',consolas,'Courier New',monospace\">Tp;  <span style=\"color: #008080; text-decoration-color: #008080; font-weight: bold\">0</span>  Fp;  <span style=\"color: #008080; text-decoration-color: #008080; font-weight: bold\">3</span>\n",
       "</pre>\n"
      ],
      "text/plain": [
       "Tp;  \u001b[1;36m0\u001b[0m  Fp;  \u001b[1;36m3\u001b[0m\n"
      ]
     },
     "metadata": {},
     "output_type": "display_data"
    },
    {
     "name": "stderr",
     "output_type": "stream",
     "text": [
      "  5%|████▌                                                                              | 3/55 [00:00<00:05,  9.03it/s]"
     ]
    },
    {
     "data": {
      "text/html": [
       "<pre style=\"white-space:pre;overflow-x:auto;line-height:normal;font-family:Menlo,'DejaVu Sans Mono',consolas,'Courier New',monospace\">Tp;  <span style=\"color: #008080; text-decoration-color: #008080; font-weight: bold\">0</span>  Fp;  <span style=\"color: #008080; text-decoration-color: #008080; font-weight: bold\">4</span>\n",
       "</pre>\n"
      ],
      "text/plain": [
       "Tp;  \u001b[1;36m0\u001b[0m  Fp;  \u001b[1;36m4\u001b[0m\n"
      ]
     },
     "metadata": {},
     "output_type": "display_data"
    },
    {
     "name": "stderr",
     "output_type": "stream",
     "text": [
      "  7%|██████                                                                             | 4/55 [00:00<00:05,  8.55it/s]"
     ]
    },
    {
     "data": {
      "text/html": [
       "<pre style=\"white-space:pre;overflow-x:auto;line-height:normal;font-family:Menlo,'DejaVu Sans Mono',consolas,'Courier New',monospace\">Tp;  <span style=\"color: #008080; text-decoration-color: #008080; font-weight: bold\">0</span>  Fp;  <span style=\"color: #008080; text-decoration-color: #008080; font-weight: bold\">5</span>\n",
       "</pre>\n"
      ],
      "text/plain": [
       "Tp;  \u001b[1;36m0\u001b[0m  Fp;  \u001b[1;36m5\u001b[0m\n"
      ]
     },
     "metadata": {},
     "output_type": "display_data"
    },
    {
     "name": "stderr",
     "output_type": "stream",
     "text": [
      "  9%|███████▌                                                                           | 5/55 [00:00<00:05,  8.91it/s]"
     ]
    },
    {
     "data": {
      "text/html": [
       "<pre style=\"white-space:pre;overflow-x:auto;line-height:normal;font-family:Menlo,'DejaVu Sans Mono',consolas,'Courier New',monospace\">Tp;  <span style=\"color: #008080; text-decoration-color: #008080; font-weight: bold\">0</span>  Fp;  <span style=\"color: #008080; text-decoration-color: #008080; font-weight: bold\">6</span>\n",
       "</pre>\n"
      ],
      "text/plain": [
       "Tp;  \u001b[1;36m0\u001b[0m  Fp;  \u001b[1;36m6\u001b[0m\n"
      ]
     },
     "metadata": {},
     "output_type": "display_data"
    },
    {
     "name": "stderr",
     "output_type": "stream",
     "text": [
      " 11%|█████████                                                                          | 6/55 [00:00<00:05,  8.71it/s]"
     ]
    },
    {
     "data": {
      "text/html": [
       "<pre style=\"white-space:pre;overflow-x:auto;line-height:normal;font-family:Menlo,'DejaVu Sans Mono',consolas,'Courier New',monospace\">Tp;  <span style=\"color: #008080; text-decoration-color: #008080; font-weight: bold\">0</span>  Fp;  <span style=\"color: #008080; text-decoration-color: #008080; font-weight: bold\">7</span>\n",
       "</pre>\n"
      ],
      "text/plain": [
       "Tp;  \u001b[1;36m0\u001b[0m  Fp;  \u001b[1;36m7\u001b[0m\n"
      ]
     },
     "metadata": {},
     "output_type": "display_data"
    },
    {
     "name": "stderr",
     "output_type": "stream",
     "text": [
      " 13%|██████████▌                                                                        | 7/55 [00:00<00:05,  8.23it/s]"
     ]
    },
    {
     "data": {
      "text/html": [
       "<pre style=\"white-space:pre;overflow-x:auto;line-height:normal;font-family:Menlo,'DejaVu Sans Mono',consolas,'Courier New',monospace\">Tp;  <span style=\"color: #008080; text-decoration-color: #008080; font-weight: bold\">0</span>  Fp;  <span style=\"color: #008080; text-decoration-color: #008080; font-weight: bold\">8</span>\n",
       "</pre>\n"
      ],
      "text/plain": [
       "Tp;  \u001b[1;36m0\u001b[0m  Fp;  \u001b[1;36m8\u001b[0m\n"
      ]
     },
     "metadata": {},
     "output_type": "display_data"
    },
    {
     "name": "stderr",
     "output_type": "stream",
     "text": [
      " 15%|████████████                                                                       | 8/55 [00:00<00:05,  8.48it/s]"
     ]
    },
    {
     "data": {
      "text/html": [
       "<pre style=\"white-space:pre;overflow-x:auto;line-height:normal;font-family:Menlo,'DejaVu Sans Mono',consolas,'Courier New',monospace\">Tp;  <span style=\"color: #008080; text-decoration-color: #008080; font-weight: bold\">0</span>  Fp;  <span style=\"color: #008080; text-decoration-color: #008080; font-weight: bold\">9</span>\n",
       "</pre>\n"
      ],
      "text/plain": [
       "Tp;  \u001b[1;36m0\u001b[0m  Fp;  \u001b[1;36m9\u001b[0m\n"
      ]
     },
     "metadata": {},
     "output_type": "display_data"
    },
    {
     "name": "stderr",
     "output_type": "stream",
     "text": [
      " 16%|█████████████▌                                                                     | 9/55 [00:01<00:05,  8.74it/s]"
     ]
    },
    {
     "data": {
      "text/html": [
       "<pre style=\"white-space:pre;overflow-x:auto;line-height:normal;font-family:Menlo,'DejaVu Sans Mono',consolas,'Courier New',monospace\">Tp;  <span style=\"color: #008080; text-decoration-color: #008080; font-weight: bold\">0</span>  Fp;  <span style=\"color: #008080; text-decoration-color: #008080; font-weight: bold\">10</span>\n",
       "</pre>\n"
      ],
      "text/plain": [
       "Tp;  \u001b[1;36m0\u001b[0m  Fp;  \u001b[1;36m10\u001b[0m\n"
      ]
     },
     "metadata": {},
     "output_type": "display_data"
    },
    {
     "name": "stderr",
     "output_type": "stream",
     "text": [
      " 18%|██████████████▉                                                                   | 10/55 [00:01<00:05,  8.33it/s]"
     ]
    },
    {
     "data": {
      "text/html": [
       "<pre style=\"white-space:pre;overflow-x:auto;line-height:normal;font-family:Menlo,'DejaVu Sans Mono',consolas,'Courier New',monospace\">Tp;  <span style=\"color: #008080; text-decoration-color: #008080; font-weight: bold\">0</span>  Fp;  <span style=\"color: #008080; text-decoration-color: #008080; font-weight: bold\">11</span>\n",
       "</pre>\n"
      ],
      "text/plain": [
       "Tp;  \u001b[1;36m0\u001b[0m  Fp;  \u001b[1;36m11\u001b[0m\n"
      ]
     },
     "metadata": {},
     "output_type": "display_data"
    },
    {
     "name": "stderr",
     "output_type": "stream",
     "text": [
      " 20%|████████████████▍                                                                 | 11/55 [00:01<00:05,  8.46it/s]"
     ]
    },
    {
     "data": {
      "text/html": [
       "<pre style=\"white-space:pre;overflow-x:auto;line-height:normal;font-family:Menlo,'DejaVu Sans Mono',consolas,'Courier New',monospace\">Tp;  <span style=\"color: #008080; text-decoration-color: #008080; font-weight: bold\">0</span>  Fp;  <span style=\"color: #008080; text-decoration-color: #008080; font-weight: bold\">12</span>\n",
       "</pre>\n"
      ],
      "text/plain": [
       "Tp;  \u001b[1;36m0\u001b[0m  Fp;  \u001b[1;36m12\u001b[0m\n"
      ]
     },
     "metadata": {},
     "output_type": "display_data"
    },
    {
     "data": {
      "text/html": [
       "<pre style=\"white-space:pre;overflow-x:auto;line-height:normal;font-family:Menlo,'DejaVu Sans Mono',consolas,'Courier New',monospace\">Tp;  <span style=\"color: #008080; text-decoration-color: #008080; font-weight: bold\">0</span>  Fp;  <span style=\"color: #008080; text-decoration-color: #008080; font-weight: bold\">13</span>\n",
       "</pre>\n"
      ],
      "text/plain": [
       "Tp;  \u001b[1;36m0\u001b[0m  Fp;  \u001b[1;36m13\u001b[0m\n"
      ]
     },
     "metadata": {},
     "output_type": "display_data"
    },
    {
     "name": "stderr",
     "output_type": "stream",
     "text": [
      " 24%|███████████████████▍                                                              | 13/55 [00:01<00:04,  8.74it/s]"
     ]
    },
    {
     "data": {
      "text/html": [
       "<pre style=\"white-space:pre;overflow-x:auto;line-height:normal;font-family:Menlo,'DejaVu Sans Mono',consolas,'Courier New',monospace\">Tp;  <span style=\"color: #008080; text-decoration-color: #008080; font-weight: bold\">0</span>  Fp;  <span style=\"color: #008080; text-decoration-color: #008080; font-weight: bold\">14</span>\n",
       "</pre>\n"
      ],
      "text/plain": [
       "Tp;  \u001b[1;36m0\u001b[0m  Fp;  \u001b[1;36m14\u001b[0m\n"
      ]
     },
     "metadata": {},
     "output_type": "display_data"
    },
    {
     "name": "stderr",
     "output_type": "stream",
     "text": [
      " 25%|████████████████████▊                                                             | 14/55 [00:01<00:04,  8.77it/s]"
     ]
    },
    {
     "data": {
      "text/html": [
       "<pre style=\"white-space:pre;overflow-x:auto;line-height:normal;font-family:Menlo,'DejaVu Sans Mono',consolas,'Courier New',monospace\">Tp;  <span style=\"color: #008080; text-decoration-color: #008080; font-weight: bold\">0</span>  Fp;  <span style=\"color: #008080; text-decoration-color: #008080; font-weight: bold\">15</span>\n",
       "</pre>\n"
      ],
      "text/plain": [
       "Tp;  \u001b[1;36m0\u001b[0m  Fp;  \u001b[1;36m15\u001b[0m\n"
      ]
     },
     "metadata": {},
     "output_type": "display_data"
    },
    {
     "name": "stderr",
     "output_type": "stream",
     "text": [
      " 27%|██████████████████████▎                                                           | 15/55 [00:01<00:04,  8.83it/s]"
     ]
    },
    {
     "data": {
      "text/html": [
       "<pre style=\"white-space:pre;overflow-x:auto;line-height:normal;font-family:Menlo,'DejaVu Sans Mono',consolas,'Courier New',monospace\">Tp;  <span style=\"color: #008080; text-decoration-color: #008080; font-weight: bold\">0</span>  Fp;  <span style=\"color: #008080; text-decoration-color: #008080; font-weight: bold\">16</span>\n",
       "</pre>\n"
      ],
      "text/plain": [
       "Tp;  \u001b[1;36m0\u001b[0m  Fp;  \u001b[1;36m16\u001b[0m\n"
      ]
     },
     "metadata": {},
     "output_type": "display_data"
    },
    {
     "name": "stderr",
     "output_type": "stream",
     "text": [
      " 29%|███████████████████████▊                                                          | 16/55 [00:01<00:04,  8.71it/s]"
     ]
    },
    {
     "data": {
      "text/html": [
       "<pre style=\"white-space:pre;overflow-x:auto;line-height:normal;font-family:Menlo,'DejaVu Sans Mono',consolas,'Courier New',monospace\">Tp;  <span style=\"color: #008080; text-decoration-color: #008080; font-weight: bold\">0</span>  Fp;  <span style=\"color: #008080; text-decoration-color: #008080; font-weight: bold\">17</span>\n",
       "</pre>\n"
      ],
      "text/plain": [
       "Tp;  \u001b[1;36m0\u001b[0m  Fp;  \u001b[1;36m17\u001b[0m\n"
      ]
     },
     "metadata": {},
     "output_type": "display_data"
    },
    {
     "name": "stderr",
     "output_type": "stream",
     "text": [
      " 31%|█████████████████████████▎                                                        | 17/55 [00:01<00:04,  8.54it/s]"
     ]
    },
    {
     "data": {
      "text/html": [
       "<pre style=\"white-space:pre;overflow-x:auto;line-height:normal;font-family:Menlo,'DejaVu Sans Mono',consolas,'Courier New',monospace\">Tp;  <span style=\"color: #008080; text-decoration-color: #008080; font-weight: bold\">0</span>  Fp;  <span style=\"color: #008080; text-decoration-color: #008080; font-weight: bold\">18</span>\n",
       "</pre>\n"
      ],
      "text/plain": [
       "Tp;  \u001b[1;36m0\u001b[0m  Fp;  \u001b[1;36m18\u001b[0m\n"
      ]
     },
     "metadata": {},
     "output_type": "display_data"
    },
    {
     "name": "stderr",
     "output_type": "stream",
     "text": [
      " 33%|██████████████████████████▊                                                       | 18/55 [00:02<00:04,  8.87it/s]"
     ]
    },
    {
     "data": {
      "text/html": [
       "<pre style=\"white-space:pre;overflow-x:auto;line-height:normal;font-family:Menlo,'DejaVu Sans Mono',consolas,'Courier New',monospace\">Tp;  <span style=\"color: #008080; text-decoration-color: #008080; font-weight: bold\">0</span>  Fp;  <span style=\"color: #008080; text-decoration-color: #008080; font-weight: bold\">19</span>\n",
       "</pre>\n"
      ],
      "text/plain": [
       "Tp;  \u001b[1;36m0\u001b[0m  Fp;  \u001b[1;36m19\u001b[0m\n"
      ]
     },
     "metadata": {},
     "output_type": "display_data"
    },
    {
     "name": "stderr",
     "output_type": "stream",
     "text": [
      " 35%|████████████████████████████▎                                                     | 19/55 [00:02<00:04,  7.99it/s]"
     ]
    },
    {
     "data": {
      "text/html": [
       "<pre style=\"white-space:pre;overflow-x:auto;line-height:normal;font-family:Menlo,'DejaVu Sans Mono',consolas,'Courier New',monospace\">Tp;  <span style=\"color: #008080; text-decoration-color: #008080; font-weight: bold\">0</span>  Fp;  <span style=\"color: #008080; text-decoration-color: #008080; font-weight: bold\">20</span>\n",
       "</pre>\n"
      ],
      "text/plain": [
       "Tp;  \u001b[1;36m0\u001b[0m  Fp;  \u001b[1;36m20\u001b[0m\n"
      ]
     },
     "metadata": {},
     "output_type": "display_data"
    },
    {
     "name": "stderr",
     "output_type": "stream",
     "text": [
      " 36%|█████████████████████████████▊                                                    | 20/55 [00:02<00:04,  8.12it/s]"
     ]
    },
    {
     "data": {
      "text/html": [
       "<pre style=\"white-space:pre;overflow-x:auto;line-height:normal;font-family:Menlo,'DejaVu Sans Mono',consolas,'Courier New',monospace\">Tp;  <span style=\"color: #008080; text-decoration-color: #008080; font-weight: bold\">0</span>  Fp;  <span style=\"color: #008080; text-decoration-color: #008080; font-weight: bold\">21</span>\n",
       "</pre>\n"
      ],
      "text/plain": [
       "Tp;  \u001b[1;36m0\u001b[0m  Fp;  \u001b[1;36m21\u001b[0m\n"
      ]
     },
     "metadata": {},
     "output_type": "display_data"
    },
    {
     "name": "stderr",
     "output_type": "stream",
     "text": [
      " 38%|███████████████████████████████▎                                                  | 21/55 [00:02<00:04,  7.77it/s]"
     ]
    },
    {
     "data": {
      "text/html": [
       "<pre style=\"white-space:pre;overflow-x:auto;line-height:normal;font-family:Menlo,'DejaVu Sans Mono',consolas,'Courier New',monospace\">Tp;  <span style=\"color: #008080; text-decoration-color: #008080; font-weight: bold\">0</span>  Fp;  <span style=\"color: #008080; text-decoration-color: #008080; font-weight: bold\">22</span>\n",
       "</pre>\n"
      ],
      "text/plain": [
       "Tp;  \u001b[1;36m0\u001b[0m  Fp;  \u001b[1;36m22\u001b[0m\n"
      ]
     },
     "metadata": {},
     "output_type": "display_data"
    },
    {
     "name": "stderr",
     "output_type": "stream",
     "text": [
      " 40%|████████████████████████████████▊                                                 | 22/55 [00:02<00:04,  7.85it/s]"
     ]
    },
    {
     "data": {
      "text/html": [
       "<pre style=\"white-space:pre;overflow-x:auto;line-height:normal;font-family:Menlo,'DejaVu Sans Mono',consolas,'Courier New',monospace\">Tp;  <span style=\"color: #008080; text-decoration-color: #008080; font-weight: bold\">0</span>  Fp;  <span style=\"color: #008080; text-decoration-color: #008080; font-weight: bold\">23</span>\n",
       "</pre>\n"
      ],
      "text/plain": [
       "Tp;  \u001b[1;36m0\u001b[0m  Fp;  \u001b[1;36m23\u001b[0m\n"
      ]
     },
     "metadata": {},
     "output_type": "display_data"
    },
    {
     "name": "stderr",
     "output_type": "stream",
     "text": [
      " 42%|██████████████████████████████████▎                                               | 23/55 [00:02<00:03,  8.37it/s]"
     ]
    },
    {
     "data": {
      "text/html": [
       "<pre style=\"white-space:pre;overflow-x:auto;line-height:normal;font-family:Menlo,'DejaVu Sans Mono',consolas,'Courier New',monospace\">Tp;  <span style=\"color: #008080; text-decoration-color: #008080; font-weight: bold\">0</span>  Fp;  <span style=\"color: #008080; text-decoration-color: #008080; font-weight: bold\">24</span>\n",
       "</pre>\n"
      ],
      "text/plain": [
       "Tp;  \u001b[1;36m0\u001b[0m  Fp;  \u001b[1;36m24\u001b[0m\n"
      ]
     },
     "metadata": {},
     "output_type": "display_data"
    },
    {
     "data": {
      "text/html": [
       "<pre style=\"white-space:pre;overflow-x:auto;line-height:normal;font-family:Menlo,'DejaVu Sans Mono',consolas,'Courier New',monospace\">Tp;  <span style=\"color: #008080; text-decoration-color: #008080; font-weight: bold\">0</span>  Fp;  <span style=\"color: #008080; text-decoration-color: #008080; font-weight: bold\">25</span>\n",
       "</pre>\n"
      ],
      "text/plain": [
       "Tp;  \u001b[1;36m0\u001b[0m  Fp;  \u001b[1;36m25\u001b[0m\n"
      ]
     },
     "metadata": {},
     "output_type": "display_data"
    },
    {
     "name": "stderr",
     "output_type": "stream",
     "text": [
      " 45%|█████████████████████████████████████▎                                            | 25/55 [00:02<00:03,  8.96it/s]"
     ]
    },
    {
     "data": {
      "text/html": [
       "<pre style=\"white-space:pre;overflow-x:auto;line-height:normal;font-family:Menlo,'DejaVu Sans Mono',consolas,'Courier New',monospace\">Tp;  <span style=\"color: #008080; text-decoration-color: #008080; font-weight: bold\">0</span>  Fp;  <span style=\"color: #008080; text-decoration-color: #008080; font-weight: bold\">26</span>\n",
       "</pre>\n"
      ],
      "text/plain": [
       "Tp;  \u001b[1;36m0\u001b[0m  Fp;  \u001b[1;36m26\u001b[0m\n"
      ]
     },
     "metadata": {},
     "output_type": "display_data"
    },
    {
     "name": "stderr",
     "output_type": "stream",
     "text": [
      " 47%|██████████████████████████████████████▊                                           | 26/55 [00:03<00:03,  8.79it/s]"
     ]
    },
    {
     "data": {
      "text/html": [
       "<pre style=\"white-space:pre;overflow-x:auto;line-height:normal;font-family:Menlo,'DejaVu Sans Mono',consolas,'Courier New',monospace\">Tp;  <span style=\"color: #008080; text-decoration-color: #008080; font-weight: bold\">0</span>  Fp;  <span style=\"color: #008080; text-decoration-color: #008080; font-weight: bold\">27</span>\n",
       "</pre>\n"
      ],
      "text/plain": [
       "Tp;  \u001b[1;36m0\u001b[0m  Fp;  \u001b[1;36m27\u001b[0m\n"
      ]
     },
     "metadata": {},
     "output_type": "display_data"
    },
    {
     "name": "stderr",
     "output_type": "stream",
     "text": [
      " 49%|████████████████████████████████████████▎                                         | 27/55 [00:03<00:03,  9.01it/s]"
     ]
    },
    {
     "data": {
      "text/html": [
       "<pre style=\"white-space:pre;overflow-x:auto;line-height:normal;font-family:Menlo,'DejaVu Sans Mono',consolas,'Courier New',monospace\">Tp;  <span style=\"color: #008080; text-decoration-color: #008080; font-weight: bold\">0</span>  Fp;  <span style=\"color: #008080; text-decoration-color: #008080; font-weight: bold\">28</span>\n",
       "</pre>\n"
      ],
      "text/plain": [
       "Tp;  \u001b[1;36m0\u001b[0m  Fp;  \u001b[1;36m28\u001b[0m\n"
      ]
     },
     "metadata": {},
     "output_type": "display_data"
    },
    {
     "name": "stderr",
     "output_type": "stream",
     "text": [
      " 51%|█████████████████████████████████████████▋                                        | 28/55 [00:03<00:03,  8.87it/s]"
     ]
    },
    {
     "data": {
      "text/html": [
       "<pre style=\"white-space:pre;overflow-x:auto;line-height:normal;font-family:Menlo,'DejaVu Sans Mono',consolas,'Courier New',monospace\">Tp;  <span style=\"color: #008080; text-decoration-color: #008080; font-weight: bold\">0</span>  Fp;  <span style=\"color: #008080; text-decoration-color: #008080; font-weight: bold\">29</span>\n",
       "</pre>\n"
      ],
      "text/plain": [
       "Tp;  \u001b[1;36m0\u001b[0m  Fp;  \u001b[1;36m29\u001b[0m\n"
      ]
     },
     "metadata": {},
     "output_type": "display_data"
    },
    {
     "name": "stderr",
     "output_type": "stream",
     "text": [
      " 53%|███████████████████████████████████████████▏                                      | 29/55 [00:03<00:03,  8.32it/s]"
     ]
    },
    {
     "data": {
      "text/html": [
       "<pre style=\"white-space:pre;overflow-x:auto;line-height:normal;font-family:Menlo,'DejaVu Sans Mono',consolas,'Courier New',monospace\">Tp;  <span style=\"color: #008080; text-decoration-color: #008080; font-weight: bold\">0</span>  Fp;  <span style=\"color: #008080; text-decoration-color: #008080; font-weight: bold\">29</span>\n",
       "</pre>\n"
      ],
      "text/plain": [
       "Tp;  \u001b[1;36m0\u001b[0m  Fp;  \u001b[1;36m29\u001b[0m\n"
      ]
     },
     "metadata": {},
     "output_type": "display_data"
    },
    {
     "name": "stderr",
     "output_type": "stream",
     "text": [
      " 55%|████████████████████████████████████████████▋                                     | 30/55 [00:03<00:03,  8.30it/s]"
     ]
    },
    {
     "data": {
      "text/html": [
       "<pre style=\"white-space:pre;overflow-x:auto;line-height:normal;font-family:Menlo,'DejaVu Sans Mono',consolas,'Courier New',monospace\">Tp;  <span style=\"color: #008080; text-decoration-color: #008080; font-weight: bold\">0</span>  Fp;  <span style=\"color: #008080; text-decoration-color: #008080; font-weight: bold\">30</span>\n",
       "</pre>\n"
      ],
      "text/plain": [
       "Tp;  \u001b[1;36m0\u001b[0m  Fp;  \u001b[1;36m30\u001b[0m\n"
      ]
     },
     "metadata": {},
     "output_type": "display_data"
    },
    {
     "name": "stderr",
     "output_type": "stream",
     "text": [
      " 56%|██████████████████████████████████████████████▏                                   | 31/55 [00:03<00:02,  8.06it/s]"
     ]
    },
    {
     "data": {
      "text/html": [
       "<pre style=\"white-space:pre;overflow-x:auto;line-height:normal;font-family:Menlo,'DejaVu Sans Mono',consolas,'Courier New',monospace\">Tp;  <span style=\"color: #008080; text-decoration-color: #008080; font-weight: bold\">0</span>  Fp;  <span style=\"color: #008080; text-decoration-color: #008080; font-weight: bold\">31</span>\n",
       "</pre>\n"
      ],
      "text/plain": [
       "Tp;  \u001b[1;36m0\u001b[0m  Fp;  \u001b[1;36m31\u001b[0m\n"
      ]
     },
     "metadata": {},
     "output_type": "display_data"
    },
    {
     "name": "stderr",
     "output_type": "stream",
     "text": [
      " 58%|███████████████████████████████████████████████▋                                  | 32/55 [00:03<00:02,  8.09it/s]"
     ]
    },
    {
     "data": {
      "text/html": [
       "<pre style=\"white-space:pre;overflow-x:auto;line-height:normal;font-family:Menlo,'DejaVu Sans Mono',consolas,'Courier New',monospace\">Tp;  <span style=\"color: #008080; text-decoration-color: #008080; font-weight: bold\">0</span>  Fp;  <span style=\"color: #008080; text-decoration-color: #008080; font-weight: bold\">32</span>\n",
       "</pre>\n"
      ],
      "text/plain": [
       "Tp;  \u001b[1;36m0\u001b[0m  Fp;  \u001b[1;36m32\u001b[0m\n"
      ]
     },
     "metadata": {},
     "output_type": "display_data"
    },
    {
     "name": "stderr",
     "output_type": "stream",
     "text": [
      " 60%|█████████████████████████████████████████████████▏                                | 33/55 [00:03<00:02,  8.20it/s]"
     ]
    },
    {
     "data": {
      "text/html": [
       "<pre style=\"white-space:pre;overflow-x:auto;line-height:normal;font-family:Menlo,'DejaVu Sans Mono',consolas,'Courier New',monospace\">Tp;  <span style=\"color: #008080; text-decoration-color: #008080; font-weight: bold\">0</span>  Fp;  <span style=\"color: #008080; text-decoration-color: #008080; font-weight: bold\">33</span>\n",
       "</pre>\n"
      ],
      "text/plain": [
       "Tp;  \u001b[1;36m0\u001b[0m  Fp;  \u001b[1;36m33\u001b[0m\n"
      ]
     },
     "metadata": {},
     "output_type": "display_data"
    },
    {
     "name": "stderr",
     "output_type": "stream",
     "text": [
      " 62%|██████████████████████████████████████████████████▋                               | 34/55 [00:04<00:02,  7.93it/s]"
     ]
    },
    {
     "data": {
      "text/html": [
       "<pre style=\"white-space:pre;overflow-x:auto;line-height:normal;font-family:Menlo,'DejaVu Sans Mono',consolas,'Courier New',monospace\">Tp;  <span style=\"color: #008080; text-decoration-color: #008080; font-weight: bold\">0</span>  Fp;  <span style=\"color: #008080; text-decoration-color: #008080; font-weight: bold\">34</span>\n",
       "</pre>\n"
      ],
      "text/plain": [
       "Tp;  \u001b[1;36m0\u001b[0m  Fp;  \u001b[1;36m34\u001b[0m\n"
      ]
     },
     "metadata": {},
     "output_type": "display_data"
    },
    {
     "name": "stderr",
     "output_type": "stream",
     "text": [
      " 64%|████████████████████████████████████████████████████▏                             | 35/55 [00:04<00:02,  8.15it/s]"
     ]
    },
    {
     "data": {
      "text/html": [
       "<pre style=\"white-space:pre;overflow-x:auto;line-height:normal;font-family:Menlo,'DejaVu Sans Mono',consolas,'Courier New',monospace\">Tp;  <span style=\"color: #008080; text-decoration-color: #008080; font-weight: bold\">0</span>  Fp;  <span style=\"color: #008080; text-decoration-color: #008080; font-weight: bold\">35</span>\n",
       "</pre>\n"
      ],
      "text/plain": [
       "Tp;  \u001b[1;36m0\u001b[0m  Fp;  \u001b[1;36m35\u001b[0m\n"
      ]
     },
     "metadata": {},
     "output_type": "display_data"
    },
    {
     "name": "stderr",
     "output_type": "stream",
     "text": [
      " 65%|█████████████████████████████████████████████████████▋                            | 36/55 [00:04<00:02,  8.19it/s]"
     ]
    },
    {
     "data": {
      "text/html": [
       "<pre style=\"white-space:pre;overflow-x:auto;line-height:normal;font-family:Menlo,'DejaVu Sans Mono',consolas,'Courier New',monospace\">Tp;  <span style=\"color: #008080; text-decoration-color: #008080; font-weight: bold\">0</span>  Fp;  <span style=\"color: #008080; text-decoration-color: #008080; font-weight: bold\">36</span>\n",
       "</pre>\n"
      ],
      "text/plain": [
       "Tp;  \u001b[1;36m0\u001b[0m  Fp;  \u001b[1;36m36\u001b[0m\n"
      ]
     },
     "metadata": {},
     "output_type": "display_data"
    },
    {
     "name": "stderr",
     "output_type": "stream",
     "text": [
      " 67%|███████████████████████████████████████████████████████▏                          | 37/55 [00:04<00:02,  8.21it/s]"
     ]
    },
    {
     "data": {
      "text/html": [
       "<pre style=\"white-space:pre;overflow-x:auto;line-height:normal;font-family:Menlo,'DejaVu Sans Mono',consolas,'Courier New',monospace\">Tp;  <span style=\"color: #008080; text-decoration-color: #008080; font-weight: bold\">0</span>  Fp;  <span style=\"color: #008080; text-decoration-color: #008080; font-weight: bold\">37</span>\n",
       "</pre>\n"
      ],
      "text/plain": [
       "Tp;  \u001b[1;36m0\u001b[0m  Fp;  \u001b[1;36m37\u001b[0m\n"
      ]
     },
     "metadata": {},
     "output_type": "display_data"
    },
    {
     "name": "stderr",
     "output_type": "stream",
     "text": [
      " 69%|████████████████████████████████████████████████████████▋                         | 38/55 [00:04<00:02,  8.14it/s]"
     ]
    },
    {
     "data": {
      "text/html": [
       "<pre style=\"white-space:pre;overflow-x:auto;line-height:normal;font-family:Menlo,'DejaVu Sans Mono',consolas,'Courier New',monospace\">Tp;  <span style=\"color: #008080; text-decoration-color: #008080; font-weight: bold\">0</span>  Fp;  <span style=\"color: #008080; text-decoration-color: #008080; font-weight: bold\">38</span>\n",
       "</pre>\n"
      ],
      "text/plain": [
       "Tp;  \u001b[1;36m0\u001b[0m  Fp;  \u001b[1;36m38\u001b[0m\n"
      ]
     },
     "metadata": {},
     "output_type": "display_data"
    },
    {
     "name": "stderr",
     "output_type": "stream",
     "text": [
      " 71%|██████████████████████████████████████████████████████████▏                       | 39/55 [00:04<00:01,  8.46it/s]"
     ]
    },
    {
     "data": {
      "text/html": [
       "<pre style=\"white-space:pre;overflow-x:auto;line-height:normal;font-family:Menlo,'DejaVu Sans Mono',consolas,'Courier New',monospace\">Tp;  <span style=\"color: #008080; text-decoration-color: #008080; font-weight: bold\">0</span>  Fp;  <span style=\"color: #008080; text-decoration-color: #008080; font-weight: bold\">39</span>\n",
       "</pre>\n"
      ],
      "text/plain": [
       "Tp;  \u001b[1;36m0\u001b[0m  Fp;  \u001b[1;36m39\u001b[0m\n"
      ]
     },
     "metadata": {},
     "output_type": "display_data"
    },
    {
     "name": "stderr",
     "output_type": "stream",
     "text": [
      " 73%|███████████████████████████████████████████████████████████▋                      | 40/55 [00:04<00:01,  8.53it/s]"
     ]
    },
    {
     "data": {
      "text/html": [
       "<pre style=\"white-space:pre;overflow-x:auto;line-height:normal;font-family:Menlo,'DejaVu Sans Mono',consolas,'Courier New',monospace\">Tp;  <span style=\"color: #008080; text-decoration-color: #008080; font-weight: bold\">0</span>  Fp;  <span style=\"color: #008080; text-decoration-color: #008080; font-weight: bold\">40</span>\n",
       "</pre>\n"
      ],
      "text/plain": [
       "Tp;  \u001b[1;36m0\u001b[0m  Fp;  \u001b[1;36m40\u001b[0m\n"
      ]
     },
     "metadata": {},
     "output_type": "display_data"
    },
    {
     "name": "stderr",
     "output_type": "stream",
     "text": [
      " 75%|█████████████████████████████████████████████████████████████▏                    | 41/55 [00:04<00:01,  8.84it/s]"
     ]
    },
    {
     "data": {
      "text/html": [
       "<pre style=\"white-space:pre;overflow-x:auto;line-height:normal;font-family:Menlo,'DejaVu Sans Mono',consolas,'Courier New',monospace\">Tp;  <span style=\"color: #008080; text-decoration-color: #008080; font-weight: bold\">0</span>  Fp;  <span style=\"color: #008080; text-decoration-color: #008080; font-weight: bold\">41</span>\n",
       "</pre>\n"
      ],
      "text/plain": [
       "Tp;  \u001b[1;36m0\u001b[0m  Fp;  \u001b[1;36m41\u001b[0m\n"
      ]
     },
     "metadata": {},
     "output_type": "display_data"
    },
    {
     "name": "stderr",
     "output_type": "stream",
     "text": [
      " 76%|██████████████████████████████████████████████████████████████▌                   | 42/55 [00:04<00:01,  8.84it/s]"
     ]
    },
    {
     "data": {
      "text/html": [
       "<pre style=\"white-space:pre;overflow-x:auto;line-height:normal;font-family:Menlo,'DejaVu Sans Mono',consolas,'Courier New',monospace\">Tp;  <span style=\"color: #008080; text-decoration-color: #008080; font-weight: bold\">0</span>  Fp;  <span style=\"color: #008080; text-decoration-color: #008080; font-weight: bold\">42</span>\n",
       "</pre>\n"
      ],
      "text/plain": [
       "Tp;  \u001b[1;36m0\u001b[0m  Fp;  \u001b[1;36m42\u001b[0m\n"
      ]
     },
     "metadata": {},
     "output_type": "display_data"
    },
    {
     "name": "stderr",
     "output_type": "stream",
     "text": [
      " 78%|████████████████████████████████████████████████████████████████                  | 43/55 [00:05<00:01,  8.81it/s]"
     ]
    },
    {
     "data": {
      "text/html": [
       "<pre style=\"white-space:pre;overflow-x:auto;line-height:normal;font-family:Menlo,'DejaVu Sans Mono',consolas,'Courier New',monospace\">Tp;  <span style=\"color: #008080; text-decoration-color: #008080; font-weight: bold\">0</span>  Fp;  <span style=\"color: #008080; text-decoration-color: #008080; font-weight: bold\">43</span>\n",
       "</pre>\n"
      ],
      "text/plain": [
       "Tp;  \u001b[1;36m0\u001b[0m  Fp;  \u001b[1;36m43\u001b[0m\n"
      ]
     },
     "metadata": {},
     "output_type": "display_data"
    },
    {
     "name": "stderr",
     "output_type": "stream",
     "text": [
      " 80%|█████████████████████████████████████████████████████████████████▌                | 44/55 [00:05<00:01,  8.76it/s]"
     ]
    },
    {
     "data": {
      "text/html": [
       "<pre style=\"white-space:pre;overflow-x:auto;line-height:normal;font-family:Menlo,'DejaVu Sans Mono',consolas,'Courier New',monospace\">Tp;  <span style=\"color: #008080; text-decoration-color: #008080; font-weight: bold\">0</span>  Fp;  <span style=\"color: #008080; text-decoration-color: #008080; font-weight: bold\">44</span>\n",
       "</pre>\n"
      ],
      "text/plain": [
       "Tp;  \u001b[1;36m0\u001b[0m  Fp;  \u001b[1;36m44\u001b[0m\n"
      ]
     },
     "metadata": {},
     "output_type": "display_data"
    },
    {
     "name": "stderr",
     "output_type": "stream",
     "text": [
      " 82%|███████████████████████████████████████████████████████████████████               | 45/55 [00:05<00:01,  9.05it/s]"
     ]
    },
    {
     "data": {
      "text/html": [
       "<pre style=\"white-space:pre;overflow-x:auto;line-height:normal;font-family:Menlo,'DejaVu Sans Mono',consolas,'Courier New',monospace\">Tp;  <span style=\"color: #008080; text-decoration-color: #008080; font-weight: bold\">0</span>  Fp;  <span style=\"color: #008080; text-decoration-color: #008080; font-weight: bold\">45</span>\n",
       "</pre>\n"
      ],
      "text/plain": [
       "Tp;  \u001b[1;36m0\u001b[0m  Fp;  \u001b[1;36m45\u001b[0m\n"
      ]
     },
     "metadata": {},
     "output_type": "display_data"
    },
    {
     "name": "stderr",
     "output_type": "stream",
     "text": [
      " 84%|████████████████████████████████████████████████████████████████████▌             | 46/55 [00:05<00:01,  8.26it/s]"
     ]
    },
    {
     "data": {
      "text/html": [
       "<pre style=\"white-space:pre;overflow-x:auto;line-height:normal;font-family:Menlo,'DejaVu Sans Mono',consolas,'Courier New',monospace\">Tp;  <span style=\"color: #008080; text-decoration-color: #008080; font-weight: bold\">0</span>  Fp;  <span style=\"color: #008080; text-decoration-color: #008080; font-weight: bold\">46</span>\n",
       "</pre>\n"
      ],
      "text/plain": [
       "Tp;  \u001b[1;36m0\u001b[0m  Fp;  \u001b[1;36m46\u001b[0m\n"
      ]
     },
     "metadata": {},
     "output_type": "display_data"
    },
    {
     "name": "stderr",
     "output_type": "stream",
     "text": [
      " 85%|██████████████████████████████████████████████████████████████████████            | 47/55 [00:05<00:00,  8.25it/s]"
     ]
    },
    {
     "data": {
      "text/html": [
       "<pre style=\"white-space:pre;overflow-x:auto;line-height:normal;font-family:Menlo,'DejaVu Sans Mono',consolas,'Courier New',monospace\">Tp;  <span style=\"color: #008080; text-decoration-color: #008080; font-weight: bold\">0</span>  Fp;  <span style=\"color: #008080; text-decoration-color: #008080; font-weight: bold\">47</span>\n",
       "</pre>\n"
      ],
      "text/plain": [
       "Tp;  \u001b[1;36m0\u001b[0m  Fp;  \u001b[1;36m47\u001b[0m\n"
      ]
     },
     "metadata": {},
     "output_type": "display_data"
    },
    {
     "name": "stderr",
     "output_type": "stream",
     "text": [
      " 87%|███████████████████████████████████████████████████████████████████████▌          | 48/55 [00:05<00:00,  8.25it/s]"
     ]
    },
    {
     "data": {
      "text/html": [
       "<pre style=\"white-space:pre;overflow-x:auto;line-height:normal;font-family:Menlo,'DejaVu Sans Mono',consolas,'Courier New',monospace\">Tp;  <span style=\"color: #008080; text-decoration-color: #008080; font-weight: bold\">0</span>  Fp;  <span style=\"color: #008080; text-decoration-color: #008080; font-weight: bold\">48</span>\n",
       "</pre>\n"
      ],
      "text/plain": [
       "Tp;  \u001b[1;36m0\u001b[0m  Fp;  \u001b[1;36m48\u001b[0m\n"
      ]
     },
     "metadata": {},
     "output_type": "display_data"
    },
    {
     "name": "stderr",
     "output_type": "stream",
     "text": [
      " 89%|█████████████████████████████████████████████████████████████████████████         | 49/55 [00:05<00:00,  8.52it/s]"
     ]
    },
    {
     "data": {
      "text/html": [
       "<pre style=\"white-space:pre;overflow-x:auto;line-height:normal;font-family:Menlo,'DejaVu Sans Mono',consolas,'Courier New',monospace\">Tp;  <span style=\"color: #008080; text-decoration-color: #008080; font-weight: bold\">0</span>  Fp;  <span style=\"color: #008080; text-decoration-color: #008080; font-weight: bold\">49</span>\n",
       "</pre>\n"
      ],
      "text/plain": [
       "Tp;  \u001b[1;36m0\u001b[0m  Fp;  \u001b[1;36m49\u001b[0m\n"
      ]
     },
     "metadata": {},
     "output_type": "display_data"
    },
    {
     "name": "stderr",
     "output_type": "stream",
     "text": [
      " 91%|██████████████████████████████████████████████████████████████████████████▌       | 50/55 [00:05<00:00,  8.60it/s]"
     ]
    },
    {
     "data": {
      "text/html": [
       "<pre style=\"white-space:pre;overflow-x:auto;line-height:normal;font-family:Menlo,'DejaVu Sans Mono',consolas,'Courier New',monospace\">Tp;  <span style=\"color: #008080; text-decoration-color: #008080; font-weight: bold\">0</span>  Fp;  <span style=\"color: #008080; text-decoration-color: #008080; font-weight: bold\">50</span>\n",
       "</pre>\n"
      ],
      "text/plain": [
       "Tp;  \u001b[1;36m0\u001b[0m  Fp;  \u001b[1;36m50\u001b[0m\n"
      ]
     },
     "metadata": {},
     "output_type": "display_data"
    },
    {
     "name": "stderr",
     "output_type": "stream",
     "text": [
      " 93%|████████████████████████████████████████████████████████████████████████████      | 51/55 [00:05<00:00,  8.94it/s]"
     ]
    },
    {
     "data": {
      "text/html": [
       "<pre style=\"white-space:pre;overflow-x:auto;line-height:normal;font-family:Menlo,'DejaVu Sans Mono',consolas,'Courier New',monospace\">Tp;  <span style=\"color: #008080; text-decoration-color: #008080; font-weight: bold\">0</span>  Fp;  <span style=\"color: #008080; text-decoration-color: #008080; font-weight: bold\">51</span>\n",
       "</pre>\n"
      ],
      "text/plain": [
       "Tp;  \u001b[1;36m0\u001b[0m  Fp;  \u001b[1;36m51\u001b[0m\n"
      ]
     },
     "metadata": {},
     "output_type": "display_data"
    },
    {
     "name": "stderr",
     "output_type": "stream",
     "text": [
      " 95%|█████████████████████████████████████████████████████████████████████████████▌    | 52/55 [00:06<00:00,  9.21it/s]"
     ]
    },
    {
     "data": {
      "text/html": [
       "<pre style=\"white-space:pre;overflow-x:auto;line-height:normal;font-family:Menlo,'DejaVu Sans Mono',consolas,'Courier New',monospace\">Tp;  <span style=\"color: #008080; text-decoration-color: #008080; font-weight: bold\">0</span>  Fp;  <span style=\"color: #008080; text-decoration-color: #008080; font-weight: bold\">52</span>\n",
       "</pre>\n"
      ],
      "text/plain": [
       "Tp;  \u001b[1;36m0\u001b[0m  Fp;  \u001b[1;36m52\u001b[0m\n"
      ]
     },
     "metadata": {},
     "output_type": "display_data"
    },
    {
     "name": "stderr",
     "output_type": "stream",
     "text": [
      " 96%|███████████████████████████████████████████████████████████████████████████████   | 53/55 [00:06<00:00,  9.11it/s]"
     ]
    },
    {
     "data": {
      "text/html": [
       "<pre style=\"white-space:pre;overflow-x:auto;line-height:normal;font-family:Menlo,'DejaVu Sans Mono',consolas,'Courier New',monospace\">Tp;  <span style=\"color: #008080; text-decoration-color: #008080; font-weight: bold\">0</span>  Fp;  <span style=\"color: #008080; text-decoration-color: #008080; font-weight: bold\">53</span>\n",
       "</pre>\n"
      ],
      "text/plain": [
       "Tp;  \u001b[1;36m0\u001b[0m  Fp;  \u001b[1;36m53\u001b[0m\n"
      ]
     },
     "metadata": {},
     "output_type": "display_data"
    },
    {
     "name": "stderr",
     "output_type": "stream",
     "text": [
      " 98%|████████████████████████████████████████████████████████████████████████████████▌ | 54/55 [00:06<00:00,  9.31it/s]"
     ]
    },
    {
     "data": {
      "text/html": [
       "<pre style=\"white-space:pre;overflow-x:auto;line-height:normal;font-family:Menlo,'DejaVu Sans Mono',consolas,'Courier New',monospace\">Tp;  <span style=\"color: #008080; text-decoration-color: #008080; font-weight: bold\">0</span>  Fp;  <span style=\"color: #008080; text-decoration-color: #008080; font-weight: bold\">54</span>\n",
       "</pre>\n"
      ],
      "text/plain": [
       "Tp;  \u001b[1;36m0\u001b[0m  Fp;  \u001b[1;36m54\u001b[0m\n"
      ]
     },
     "metadata": {},
     "output_type": "display_data"
    },
    {
     "name": "stderr",
     "output_type": "stream",
     "text": [
      "100%|██████████████████████████████████████████████████████████████████████████████████| 55/55 [00:06<00:00,  8.60it/s]\n",
      " 27%|██████████████████████▎                                                           | 15/55 [00:01<00:04,  8.92it/s]"
     ]
    }
   ],
   "source": [
    "precision = evaluate.precision(threshold=0.5)\n",
    "recall = evaluate.recall(threshold=0.5)"
   ]
  },
  {
   "cell_type": "code",
   "execution_count": null,
   "id": "9ac7fc53-9a2c-44bc-8cb1-cc0e450b7998",
   "metadata": {},
   "outputs": [],
   "source": [
    "precision"
   ]
  },
  {
   "cell_type": "code",
   "execution_count": 18,
   "id": "db534b56",
   "metadata": {},
   "outputs": [
    {
     "data": {
      "text/plain": [
       "0.0"
      ]
     },
     "execution_count": 18,
     "metadata": {},
     "output_type": "execute_result"
    }
   ],
   "source": [
    "recall"
   ]
  },
  {
   "cell_type": "code",
   "execution_count": 64,
   "id": "d87f79d5",
   "metadata": {},
   "outputs": [],
   "source": [
    "paths = np.array([\"world\", \"hello\"])\n",
    "p = paths[[1,0]]"
   ]
  },
  {
   "cell_type": "code",
   "execution_count": 65,
   "id": "0efc2ff5-eadf-4e5e-9376-4e73568678da",
   "metadata": {},
   "outputs": [
    {
     "data": {
      "text/plain": [
       "array(['hello', 'world'], dtype='<U5')"
      ]
     },
     "execution_count": 65,
     "metadata": {},
     "output_type": "execute_result"
    }
   ],
   "source": [
    "p"
   ]
  },
  {
   "cell_type": "code",
   "execution_count": null,
   "id": "ff25ffcc-b649-4647-b0b0-3b6542e0a2fe",
   "metadata": {},
   "outputs": [],
   "source": []
  },
  {
   "cell_type": "code",
   "execution_count": null,
   "id": "f4717718-48c9-446f-aeb9-dbe9e3ad4ab7",
   "metadata": {},
   "outputs": [],
   "source": []
  },
  {
   "cell_type": "code",
   "execution_count": null,
   "id": "52ed9c32-4738-4566-921b-186bcdd2e837",
   "metadata": {},
   "outputs": [],
   "source": []
  },
  {
   "cell_type": "code",
   "execution_count": null,
   "id": "5c505126-46a5-4e39-ba6f-ab98d2158bab",
   "metadata": {},
   "outputs": [],
   "source": []
  },
  {
   "cell_type": "code",
   "execution_count": null,
   "id": "dc98a4e2-5b96-454f-8620-89f8f580544f",
   "metadata": {},
   "outputs": [],
   "source": []
  },
  {
   "cell_type": "code",
   "execution_count": null,
   "id": "809ef164-efff-4eb7-a30e-183ac29b5058",
   "metadata": {},
   "outputs": [],
   "source": []
  },
  {
   "cell_type": "code",
   "execution_count": null,
   "id": "54f99c21-6eb6-4f9e-b6b4-9695e4e860f0",
   "metadata": {},
   "outputs": [],
   "source": []
  },
  {
   "cell_type": "code",
   "execution_count": null,
   "id": "7e8f9dfb-bd9d-4ba7-a270-76505dff9e80",
   "metadata": {},
   "outputs": [],
   "source": []
  },
  {
   "cell_type": "code",
   "execution_count": null,
   "id": "50c4098d-e797-40a2-847b-45f49eaaadbc",
   "metadata": {},
   "outputs": [],
   "source": []
  }
 ],
 "metadata": {
  "kernelspec": {
   "display_name": "Python 3 (ipykernel)",
   "language": "python",
   "name": "python3"
  },
  "language_info": {
   "codemirror_mode": {
    "name": "ipython",
    "version": 3
   },
   "file_extension": ".py",
   "mimetype": "text/x-python",
   "name": "python",
   "nbconvert_exporter": "python",
   "pygments_lexer": "ipython3",
   "version": "3.8.13"
  }
 },
 "nbformat": 4,
 "nbformat_minor": 5
}
